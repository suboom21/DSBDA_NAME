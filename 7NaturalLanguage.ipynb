{
 "cells": [
  {
   "cell_type": "code",
   "execution_count": 41,
   "id": "ed8faac6-9a68-4764-89a2-9ebaa2116b2b",
   "metadata": {},
   "outputs": [],
   "source": [
    "sentence1='I Dont know what will happen this semester'"
   ]
  },
  {
   "cell_type": "code",
   "execution_count": 42,
   "id": "38876aa9-47b8-4c18-97a4-429e02d164a7",
   "metadata": {},
   "outputs": [],
   "source": [
    "s2='I got good grades in my exams'"
   ]
  },
  {
   "cell_type": "code",
   "execution_count": 43,
   "id": "65ea0f5d-6c22-463a-9f63-7add1cb56c8d",
   "metadata": {},
   "outputs": [],
   "source": [
    "from nltk import word_tokenize,sent_tokenize"
   ]
  },
  {
   "cell_type": "code",
   "execution_count": 44,
   "id": "e931bd2a-d442-4265-9148-09c31cb4bd7f",
   "metadata": {},
   "outputs": [
    {
     "name": "stdout",
     "output_type": "stream",
     "text": [
      "Tokenized words: ['I', 'Dont', 'know', 'what', 'will', 'happen', 'this', 'semester']\n",
      "\n",
      "Tokenized sentences: ['I Dont know what will happen this semester']\n"
     ]
    }
   ],
   "source": [
    "from nltk import word_tokenize, sent_tokenize\n",
    "print('Tokenized words:', word_tokenize(sentence1))\n",
    "print('\\nTokenized sentences:', sent_tokenize(sentence1))"
   ]
  },
  {
   "cell_type": "code",
   "execution_count": 45,
   "id": "2aeac7da-8265-40ee-a5eb-772c15a75c69",
   "metadata": {},
   "outputs": [],
   "source": [
    "from nltk import pos_tag"
   ]
  },
  {
   "cell_type": "code",
   "execution_count": 46,
   "id": "573be98c-6741-4cc7-9b71-d71c1ab82f96",
   "metadata": {},
   "outputs": [
    {
     "name": "stdout",
     "output_type": "stream",
     "text": [
      "Pos Tagged : [('I', 'PRP'), ('Dont', 'VBP'), ('know', 'VBP'), ('what', 'WP'), ('will', 'MD'), ('happen', 'VB'), ('this', 'DT'), ('semester', 'NN')]\n"
     ]
    }
   ],
   "source": [
    "token=word_tokenize(sentence1)\n",
    "tagged=pos_tag(token)\n",
    "print('Pos Tagged :', tagged)"
   ]
  },
  {
   "cell_type": "code",
   "execution_count": 47,
   "id": "ce23f56c-79ec-45a8-8a4f-c79b9dc74bb3",
   "metadata": {},
   "outputs": [],
   "source": [
    "from nltk.corpus import stopwords"
   ]
  },
  {
   "cell_type": "code",
   "execution_count": 54,
   "id": "2040b1d2-5be7-4631-99b9-b3662168b19a",
   "metadata": {},
   "outputs": [
    {
     "name": "stdout",
     "output_type": "stream",
     "text": [
      "Unclean Token : [('I', 'PRP'), ('Dont', 'VBP'), ('know', 'VBP'), ('what', 'WP'), ('will', 'MD'), ('happen', 'VB'), ('this', 'DT'), ('semester', 'NN')]\n",
      "cleaned StopWords : ['I', 'Dont', 'know', 'happen', 'semester']\n"
     ]
    }
   ],
   "source": [
    "stop_words=stopwords.words('english')\n",
    "cleaned_token=[]\n",
    "for word in token:\n",
    "    if word  not in stop_words:\n",
    "        cleaned_token.append(word)\n",
    "print('Unclean Token :', tagged)\n",
    "print('cleaned StopWords :',cleaned_token)"
   ]
  },
  {
   "cell_type": "code",
   "execution_count": 56,
   "id": "8fb4eae6-d8da-42cc-98a9-10503a810abe",
   "metadata": {},
   "outputs": [],
   "source": [
    "from nltk.stem import PorterStemmer\n",
    "stemmer=PorterStemmer()"
   ]
  },
  {
   "cell_type": "code",
   "execution_count": 58,
   "id": "f92be956-15fd-4f28-8c64-c09931a7932f",
   "metadata": {},
   "outputs": [],
   "source": [
    "stemmed_token=[stemmer.stem(token) for token in cleaned_token]"
   ]
  },
  {
   "cell_type": "code",
   "execution_count": 59,
   "id": "2fb9e28d-4c26-4b41-b803-cda8916b45ec",
   "metadata": {},
   "outputs": [
    {
     "name": "stdout",
     "output_type": "stream",
     "text": [
      "['i', 'dont', 'know', 'happen', 'semest']\n"
     ]
    }
   ],
   "source": [
    "print(stemmed_token)"
   ]
  },
  {
   "cell_type": "code",
   "execution_count": 68,
   "id": "8f0bcf08-e5bf-4859-bf85-524a60d818eb",
   "metadata": {},
   "outputs": [
    {
     "name": "stdout",
     "output_type": "stream",
     "text": [
      "lemmatized : ['I', 'Dont', 'know', 'happen', 'semester']\n"
     ]
    }
   ],
   "source": [
    "from nltk.stem import WordNetLemmatizer\n",
    "lemmatizer=WordNetLemmatizer()\n",
    "lemmatized_token=[lemmatizer.lemmatize(token) for token in cleaned_token]\n",
    "print('lemmatized :',lemmatized_token)"
   ]
  },
  {
   "cell_type": "code",
   "execution_count": null,
   "id": "e4a5d0ac-0a6f-4e1f-a512-0358cda7aece",
   "metadata": {},
   "outputs": [],
   "source": []
  }
 ],
 "metadata": {
  "kernelspec": {
   "display_name": "Python 3 (ipykernel)",
   "language": "python",
   "name": "python3"
  },
  "language_info": {
   "codemirror_mode": {
    "name": "ipython",
    "version": 3
   },
   "file_extension": ".py",
   "mimetype": "text/x-python",
   "name": "python",
   "nbconvert_exporter": "python",
   "pygments_lexer": "ipython3",
   "version": "3.12.2"
  }
 },
 "nbformat": 4,
 "nbformat_minor": 5
}
